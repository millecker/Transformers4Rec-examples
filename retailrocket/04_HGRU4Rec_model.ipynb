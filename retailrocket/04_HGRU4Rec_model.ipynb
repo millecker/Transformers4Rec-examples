{
 "cells": [
  {
   "cell_type": "code",
   "execution_count": 1,
   "metadata": {},
   "outputs": [],
   "source": [
    "import pandas as pd\n",
    "import numpy as np\n",
    "import os"
   ]
  },
  {
   "cell_type": "markdown",
   "metadata": {},
   "source": [
    "### Load datasets"
   ]
  },
  {
   "cell_type": "code",
   "execution_count": 2,
   "metadata": {},
   "outputs": [],
   "source": [
    "train_sessions = pd.read_pickle(\"data/02_train_sessions.pkl\")"
   ]
  },
  {
   "cell_type": "code",
   "execution_count": 3,
   "metadata": {},
   "outputs": [],
   "source": [
    "test_sessions = pd.read_pickle(\"data/02_test_sessions.pkl\")"
   ]
  },
  {
   "cell_type": "code",
   "execution_count": 4,
   "metadata": {},
   "outputs": [],
   "source": [
    "# Define variables\n",
    "TIME_KEY = \"timestamp\"\n",
    "USER_KEY = \"visitorid\"\n",
    "ITEM_KEY = \"itemid\"\n",
    "SESSION_KEY = \"sessionid\""
   ]
  },
  {
   "cell_type": "code",
   "execution_count": 5,
   "metadata": {},
   "outputs": [],
   "source": [
    "# Optional -> Remove all test sessions with length = 1\n",
    "session_lengths = test_sessions.groupby(SESSION_KEY).size()\n",
    "test_sessions = test_sessions[np.in1d(test_sessions[SESSION_KEY], session_lengths[session_lengths > 1].index)]"
   ]
  },
  {
   "cell_type": "markdown",
   "metadata": {},
   "source": [
    "### Install requirements"
   ]
  },
  {
   "cell_type": "code",
   "execution_count": 6,
   "metadata": {},
   "outputs": [
    {
     "name": "stdout",
     "output_type": "stream",
     "text": [
      "Looking in indexes: https://pypi.org/simple, https://pypi.ngc.nvidia.com\n",
      "Collecting Theano\n",
      "  Downloading Theano-1.0.5.tar.gz (2.8 MB)\n",
      "\u001b[2K     \u001b[90m━━━━━━━━━━━━━━━━━━━━━━━━━━━━━━━━━━━━━━━━\u001b[0m \u001b[32m2.8/2.8 MB\u001b[0m \u001b[31m121.5 MB/s\u001b[0m eta \u001b[36m0:00:00\u001b[0m\n",
      "\u001b[?25h  Preparing metadata (setup.py) ... \u001b[?25ldone\n",
      "\u001b[?25hRequirement already satisfied: numpy>=1.9.1 in /usr/local/lib/python3.8/dist-packages (from Theano) (1.19.4)\n",
      "Requirement already satisfied: scipy>=0.14 in /usr/local/lib/python3.8/dist-packages (from Theano) (1.4.1)\n",
      "Requirement already satisfied: six>=1.9.0 in /usr/local/lib/python3.8/dist-packages (from Theano) (1.15.0)\n",
      "Building wheels for collected packages: Theano\n",
      "  Building wheel for Theano (setup.py) ... \u001b[?25ldone\n",
      "\u001b[?25h  Created wheel for Theano: filename=Theano-1.0.5-py3-none-any.whl size=2668111 sha256=72d0bc5de4870885f6a79f0f0991e026abe5d9033d3233a641818f36202fb56f\n",
      "  Stored in directory: /tmp/pip-ephem-wheel-cache-rpfzwejk/wheels/84/cb/19/235b5b10d89b4621f685112f8762681570a9fa14dc1ce904d9\n",
      "Successfully built Theano\n",
      "Installing collected packages: Theano\n",
      "Successfully installed Theano-1.0.5\n",
      "\u001b[33mWARNING: Running pip as the 'root' user can result in broken permissions and conflicting behaviour with the system package manager. It is recommended to use a virtual environment instead: https://pip.pypa.io/warnings/venv\u001b[0m\u001b[33m\n",
      "\u001b[0m\u001b[33mWARNING: You are using pip version 22.0.3; however, version 22.0.4 is available.\n",
      "You should consider upgrading via the '/usr/bin/python -m pip install --upgrade pip' command.\u001b[0m\u001b[33m\n",
      "\u001b[0m"
     ]
    }
   ],
   "source": [
    "# Install dependencies for HGRU4Rec\n",
    "!pip install Theano"
   ]
  },
  {
   "cell_type": "code",
   "execution_count": 7,
   "metadata": {},
   "outputs": [
    {
     "name": "stdout",
     "output_type": "stream",
     "text": [
      "  % Total    % Received % Xferd  Average Speed   Time    Time     Time  Current\n",
      "                                 Dload  Upload   Total   Spent    Left  Speed\n",
      "100 56006  100 56006    0     0   594k      0 --:--:-- --:--:-- --:--:--  594k\n",
      "  % Total    % Received % Xferd  Average Speed   Time    Time     Time  Current\n",
      "                                 Dload  Upload   Total   Spent    Left  Speed\n",
      "100 19401  100 19401    0     0   242k      0 --:--:-- --:--:-- --:--:--  242k\n"
     ]
    }
   ],
   "source": [
    "# Download HGRU4Rec source\n",
    "!curl --create-dirs -o ext/hgru4rec.py https://raw.githubusercontent.com/rn5l/session-rec/master/algorithms/hgru4rec/hgru4rec.py\n",
    "!curl --create-dirs -o ext/accuracy_multiple.py https://raw.githubusercontent.com/rn5l/session-rec/master/evaluation/metrics/accuracy_multiple.py"
   ]
  },
  {
   "cell_type": "code",
   "execution_count": 8,
   "metadata": {},
   "outputs": [],
   "source": [
    "from ext.hgru4rec import HGRU4Rec\n",
    "from ext.accuracy_multiple import Precision, Recall, MAP, NDCG"
   ]
  },
  {
   "cell_type": "markdown",
   "metadata": {},
   "source": [
    "### Train HGRU4Rec model\n",
    "The HGRU4Rec is used from https://github.com/rn5l/session-rec/blob/master/algorithms/hgru4rec/hgru4rec.py"
   ]
  },
  {
   "cell_type": "code",
   "execution_count": 9,
   "metadata": {},
   "outputs": [],
   "source": [
    "# Setup env variables for Theano\n",
    "os.environ[\"THEANO_FLAGS\"] = \"device=cuda\"\n",
    "os.environ[\"CUDA_DEVICE_ORDER\"] = \"PCI_BUS_ID\"\n",
    "os.environ[\"NUMEXPR_MAX_THREADS\"] = \"8\"\n",
    "os.environ[\"OMP_NUM_THREADS\"] = \"8\""
   ]
  },
  {
   "cell_type": "code",
   "execution_count": 10,
   "metadata": {},
   "outputs": [],
   "source": [
    "# Define Hyperparameter\n",
    "# used in https://github.com/rn5l/session-rec/blob/master/conf/save/retailrocket/session_aware/single/exp/single_retailrocket_hgru4rec.yml\n",
    "# {'final_act': 'linear', 'dropout_p_hidden_usr': 0.4, 'dropout_p_hidden_ses': 0.3, 'dropout_p_init': 0.4, \n",
    "# 'momentum': 0.3, 'learning_rate': 0.06, 'user_propagation_mode': 'all', 'batch_size': 5}\n",
    "model = HGRU4Rec(session_layers=100, user_layers=100, n_epochs=10, batch_size=5,\n",
    "             learning_rate=0.06, momentum=0.3,\n",
    "             adapt='adagrad', decay=0.9, grad_cap=0, sigma=0,\n",
    "             dropout_p_hidden_usr=0.4,\n",
    "             dropout_p_hidden_ses=0.3, dropout_p_init=0.4,\n",
    "             init_as_normal=False, reset_after_session=True, loss='top1', hidden_act='tanh', final_act='linear',\n",
    "             train_random_order=False, lmbd=0.0,\n",
    "             session_key=SESSION_KEY, item_key=ITEM_KEY, time_key=TIME_KEY, user_key=USER_KEY, n_sample=0,\n",
    "             sample_alpha=0.75,\n",
    "             user_propagation_mode='all', seed=42)"
   ]
  },
  {
   "cell_type": "code",
   "execution_count": 11,
   "metadata": {},
   "outputs": [
    {
     "name": "stderr",
     "output_type": "stream",
     "text": [
      "2022-03-31 13:55:08,619: ext.hgru4rec: INFO: Epoch 0 - train cost: 0.9128\n",
      "2022-03-31 13:57:05,356: ext.hgru4rec: INFO: Epoch 1 - train cost: 0.8093\n",
      "2022-03-31 13:59:02,137: ext.hgru4rec: INFO: Epoch 2 - train cost: 0.7119\n",
      "2022-03-31 14:00:58,802: ext.hgru4rec: INFO: Epoch 3 - train cost: 0.6569\n",
      "2022-03-31 14:02:55,883: ext.hgru4rec: INFO: Epoch 4 - train cost: 0.6233\n",
      "2022-03-31 14:04:52,337: ext.hgru4rec: INFO: Epoch 5 - train cost: 0.6041\n",
      "2022-03-31 14:06:48,510: ext.hgru4rec: INFO: Epoch 6 - train cost: 0.5925\n",
      "2022-03-31 14:08:45,790: ext.hgru4rec: INFO: Epoch 7 - train cost: 0.5839\n",
      "2022-03-31 14:10:42,574: ext.hgru4rec: INFO: Epoch 8 - train cost: 0.5789\n",
      "2022-03-31 14:12:38,979: ext.hgru4rec: INFO: Epoch 9 - train cost: 0.5744\n"
     ]
    }
   ],
   "source": [
    "model.fit(train_sessions, test_sessions)"
   ]
  },
  {
   "cell_type": "markdown",
   "metadata": {},
   "source": [
    "### Evaluate model"
   ]
  },
  {
   "cell_type": "code",
   "execution_count": 12,
   "metadata": {},
   "outputs": [
    {
     "name": "stdout",
     "output_type": "stream",
     "text": [
      "Evaluation of  36023  actions in  8761  sessions\n"
     ]
    }
   ],
   "source": [
    "# Evaluate performance\n",
    "eval_actions = len(test_sessions)\n",
    "eval_sessions = len(test_sessions[SESSION_KEY].unique())\n",
    "print('Evaluation of ', eval_actions, ' actions in ', eval_sessions, ' sessions')"
   ]
  },
  {
   "cell_type": "code",
   "execution_count": 13,
   "metadata": {},
   "outputs": [],
   "source": [
    "items_to_predict = train_sessions[ITEM_KEY].unique()"
   ]
  },
  {
   "cell_type": "code",
   "execution_count": 14,
   "metadata": {},
   "outputs": [],
   "source": [
    "# Use the training sessions of the users in test_data to bootstrap the state of the user RNN\n",
    "test_users = test_sessions[USER_KEY].unique()\n",
    "train_data = train_sessions[train_sessions[USER_KEY].isin(test_users)].copy()\n",
    "test_data = test_sessions.copy()"
   ]
  },
  {
   "cell_type": "code",
   "execution_count": 15,
   "metadata": {},
   "outputs": [],
   "source": [
    "# Concatenate training and test sessions\n",
    "train_data['in_eval'] = False\n",
    "test_data['in_eval'] = True\n",
    "test_data = pd.concat([train_data, test_data])"
   ]
  },
  {
   "cell_type": "code",
   "execution_count": 16,
   "metadata": {},
   "outputs": [],
   "source": [
    "test_data.sort_values([USER_KEY, SESSION_KEY, TIME_KEY], inplace=True)\n",
    "test_data = test_data.reset_index(drop=True)"
   ]
  },
  {
   "cell_type": "code",
   "execution_count": 17,
   "metadata": {},
   "outputs": [
    {
     "data": {
      "text/html": [
       "<div>\n",
       "<style scoped>\n",
       "    .dataframe tbody tr th:only-of-type {\n",
       "        vertical-align: middle;\n",
       "    }\n",
       "\n",
       "    .dataframe tbody tr th {\n",
       "        vertical-align: top;\n",
       "    }\n",
       "\n",
       "    .dataframe thead th {\n",
       "        text-align: right;\n",
       "    }\n",
       "</style>\n",
       "<table border=\"1\" class=\"dataframe\">\n",
       "  <thead>\n",
       "    <tr style=\"text-align: right;\">\n",
       "      <th></th>\n",
       "      <th>timestamp</th>\n",
       "      <th>visitorid</th>\n",
       "      <th>event</th>\n",
       "      <th>itemid</th>\n",
       "      <th>transactionid</th>\n",
       "      <th>sessionid</th>\n",
       "      <th>in_eval</th>\n",
       "    </tr>\n",
       "  </thead>\n",
       "  <tbody>\n",
       "    <tr>\n",
       "      <th>0</th>\n",
       "      <td>1435607175</td>\n",
       "      <td>75</td>\n",
       "      <td>view</td>\n",
       "      <td>257575</td>\n",
       "      <td>NaN</td>\n",
       "      <td>98</td>\n",
       "      <td>False</td>\n",
       "    </tr>\n",
       "    <tr>\n",
       "      <th>1</th>\n",
       "      <td>1435607242</td>\n",
       "      <td>75</td>\n",
       "      <td>view</td>\n",
       "      <td>257575</td>\n",
       "      <td>NaN</td>\n",
       "      <td>98</td>\n",
       "      <td>False</td>\n",
       "    </tr>\n",
       "    <tr>\n",
       "      <th>2</th>\n",
       "      <td>1435609434</td>\n",
       "      <td>75</td>\n",
       "      <td>view</td>\n",
       "      <td>257575</td>\n",
       "      <td>NaN</td>\n",
       "      <td>99</td>\n",
       "      <td>False</td>\n",
       "    </tr>\n",
       "    <tr>\n",
       "      <th>3</th>\n",
       "      <td>1435609596</td>\n",
       "      <td>75</td>\n",
       "      <td>view</td>\n",
       "      <td>257575</td>\n",
       "      <td>NaN</td>\n",
       "      <td>99</td>\n",
       "      <td>False</td>\n",
       "    </tr>\n",
       "    <tr>\n",
       "      <th>4</th>\n",
       "      <td>1435609771</td>\n",
       "      <td>75</td>\n",
       "      <td>view</td>\n",
       "      <td>257575</td>\n",
       "      <td>NaN</td>\n",
       "      <td>99</td>\n",
       "      <td>False</td>\n",
       "    </tr>\n",
       "  </tbody>\n",
       "</table>\n",
       "</div>"
      ],
      "text/plain": [
       "    timestamp  visitorid event  itemid  transactionid  sessionid  in_eval\n",
       "0  1435607175         75  view  257575            NaN         98    False\n",
       "1  1435607242         75  view  257575            NaN         98    False\n",
       "2  1435609434         75  view  257575            NaN         99    False\n",
       "3  1435609596         75  view  257575            NaN         99    False\n",
       "4  1435609771         75  view  257575            NaN         99    False"
      ]
     },
     "execution_count": 17,
     "metadata": {},
     "output_type": "execute_result"
    }
   ],
   "source": [
    "test_data.head()"
   ]
  },
  {
   "cell_type": "markdown",
   "metadata": {},
   "source": [
    "#### Evaluate each session\n",
    "See also https://github.com/rn5l/session-rec/blob/master/evaluation/evaluation_user_based.py"
   ]
  },
  {
   "cell_type": "code",
   "execution_count": 18,
   "metadata": {},
   "outputs": [],
   "source": [
    "def evaluate_sessions(model, metrics):\n",
    "    # Reset metrics\n",
    "    for m in metrics:\n",
    "        m.reset();\n",
    "        \n",
    "    offset_sessions = np.zeros(test_data[SESSION_KEY].nunique() + 1, dtype=np.int32)\n",
    "    length_session = np.zeros(test_data[SESSION_KEY].nunique(), dtype=np.int32)\n",
    "    offset_sessions[1:] = test_data.groupby([USER_KEY, SESSION_KEY]).size().cumsum()\n",
    "    length_session[0:] = test_data.groupby([USER_KEY, SESSION_KEY]).size()\n",
    "\n",
    "    count = 0\n",
    "    current_session_idx = 0\n",
    "    # pos: to iterate over test data to retrieve the current session and it's first interaction\n",
    "    pos = offset_sessions[current_session_idx] # index of the first element of the current session in the test data\n",
    "    position = 0  # position (index) of the current element in the current session\n",
    "    finished = False\n",
    "\n",
    "    while not finished:\n",
    "        # Log output\n",
    "        if count % 1000 == 0:\n",
    "            print('eval process: ', count, ' of ', len(test_data), ' actions: ', (count / len(test_data) * 100.0), '%')\n",
    "        \n",
    "        # Get current values\n",
    "        current_item = test_data[ITEM_KEY][pos]\n",
    "        current_session = test_data[SESSION_KEY][pos]\n",
    "        current_user = test_data[USER_KEY][pos] # current_user = test_data[user_key][pos] if user_key is not None else -1\n",
    "        ts = test_data[TIME_KEY][pos]\n",
    "        rest = test_data[ITEM_KEY][pos + 1:offset_sessions[current_session_idx] + length_session[current_session_idx]].values\n",
    "        \n",
    "        # Make predictions\n",
    "        preds = model.predict_next(current_session, current_item, current_user, items_to_predict, timestamp=ts)\n",
    "        \n",
    "        # Replace NANs with 0 and sort\n",
    "        preds[np.isnan(preds)] = 0\n",
    "        preds.sort_values(ascending=False, inplace=True)\n",
    "        \n",
    "        # Add preds to metric\n",
    "        if test_data['in_eval'][pos] == True:\n",
    "            for m in metrics:\n",
    "                if hasattr(m, 'add_multiple'):\n",
    "                    m.add_multiple(preds, rest, for_item=current_item, session=current_session, position=position)\n",
    "                elif hasattr(m, 'add'):\n",
    "                    m.add(preds, rest[0], for_item=current_item, session=current_session, position=position)\n",
    "        \n",
    "        # Increment counters\n",
    "        count += 1\n",
    "        pos += 1\n",
    "        position += 1\n",
    "\n",
    "        # check if we make prediction for all items of the current session (except the last one)\n",
    "        if pos + 1 == offset_sessions[current_session_idx] + length_session[current_session_idx]:\n",
    "            current_session_idx += 1 # start the next session\n",
    "\n",
    "            if current_session_idx == test_data[SESSION_KEY].nunique(): # if we check all sessions of the test data\n",
    "                finished = True # finish the evaluation\n",
    "\n",
    "            # retrieve the index of the first interaction of the next session we want to iterate over\n",
    "            pos = offset_sessions[current_session_idx]\n",
    "            position = 0 # reset the first position of the first interaction in the session\n",
    "            # increment count because of the last item of the session (which we do not make prediction for)\n",
    "            count += 1\n",
    "        \n",
    "    # Collect metrics results\n",
    "    res = []\n",
    "    for m in metrics:\n",
    "        res.append(m.result())\n",
    "    \n",
    "    return res"
   ]
  },
  {
   "cell_type": "code",
   "execution_count": 19,
   "metadata": {},
   "outputs": [
    {
     "name": "stdout",
     "output_type": "stream",
     "text": [
      "eval process:  0  of  291143  actions:  0.0 %\n",
      "eval process:  1000  of  291143  actions:  0.3434738255771219 %\n",
      "eval process:  2000  of  291143  actions:  0.6869476511542438 %\n",
      "eval process:  3000  of  291143  actions:  1.0304214767313655 %\n",
      "eval process:  4000  of  291143  actions:  1.3738953023084877 %\n",
      "eval process:  6000  of  291143  actions:  2.060842953462731 %\n",
      "eval process:  7000  of  291143  actions:  2.404316779039853 %\n",
      "eval process:  8000  of  291143  actions:  2.7477906046169753 %\n",
      "eval process:  9000  of  291143  actions:  3.091264430194097 %\n",
      "eval process:  11000  of  291143  actions:  3.778212081348341 %\n",
      "eval process:  13000  of  291143  actions:  4.465159732502585 %\n",
      "eval process:  14000  of  291143  actions:  4.808633558079706 %\n",
      "eval process:  15000  of  291143  actions:  5.152107383656829 %\n",
      "eval process:  17000  of  291143  actions:  5.839055034811072 %\n",
      "eval process:  18000  of  291143  actions:  6.182528860388194 %\n",
      "eval process:  22000  of  291143  actions:  7.556424162696682 %\n",
      "eval process:  23000  of  291143  actions:  7.899897988273803 %\n",
      "eval process:  24000  of  291143  actions:  8.243371813850924 %\n",
      "eval process:  25000  of  291143  actions:  8.586845639428049 %\n",
      "eval process:  26000  of  291143  actions:  8.93031946500517 %\n",
      "eval process:  27000  of  291143  actions:  9.273793290582292 %\n",
      "eval process:  28000  of  291143  actions:  9.617267116159413 %\n",
      "eval process:  29000  of  291143  actions:  9.960740941736535 %\n",
      "eval process:  30000  of  291143  actions:  10.304214767313658 %\n",
      "eval process:  32000  of  291143  actions:  10.991162418467901 %\n",
      "eval process:  33000  of  291143  actions:  11.334636244045022 %\n",
      "eval process:  34000  of  291143  actions:  11.678110069622145 %\n",
      "eval process:  35000  of  291143  actions:  12.021583895199266 %\n",
      "eval process:  36000  of  291143  actions:  12.365057720776388 %\n",
      "eval process:  37000  of  291143  actions:  12.70853154635351 %\n",
      "eval process:  38000  of  291143  actions:  13.052005371930633 %\n",
      "eval process:  39000  of  291143  actions:  13.395479197507754 %\n",
      "eval process:  40000  of  291143  actions:  13.738953023084877 %\n",
      "eval process:  41000  of  291143  actions:  14.082426848661997 %\n",
      "eval process:  42000  of  291143  actions:  14.42590067423912 %\n",
      "eval process:  43000  of  291143  actions:  14.76937449981624 %\n",
      "eval process:  44000  of  291143  actions:  15.112848325393363 %\n",
      "eval process:  45000  of  291143  actions:  15.456322150970486 %\n",
      "eval process:  46000  of  291143  actions:  15.799795976547607 %\n",
      "eval process:  47000  of  291143  actions:  16.14326980212473 %\n",
      "eval process:  48000  of  291143  actions:  16.48674362770185 %\n",
      "eval process:  49000  of  291143  actions:  16.830217453278973 %\n",
      "eval process:  50000  of  291143  actions:  17.173691278856097 %\n",
      "eval process:  51000  of  291143  actions:  17.517165104433214 %\n",
      "eval process:  52000  of  291143  actions:  17.86063893001034 %\n",
      "eval process:  53000  of  291143  actions:  18.20411275558746 %\n",
      "eval process:  54000  of  291143  actions:  18.547586581164584 %\n",
      "eval process:  55000  of  291143  actions:  18.891060406741705 %\n",
      "eval process:  56000  of  291143  actions:  19.234534232318826 %\n",
      "eval process:  57000  of  291143  actions:  19.57800805789595 %\n",
      "eval process:  58000  of  291143  actions:  19.92148188347307 %\n",
      "eval process:  59000  of  291143  actions:  20.26495570905019 %\n",
      "eval process:  60000  of  291143  actions:  20.608429534627316 %\n",
      "eval process:  61000  of  291143  actions:  20.951903360204437 %\n",
      "eval process:  63000  of  291143  actions:  21.63885101135868 %\n",
      "eval process:  64000  of  291143  actions:  21.982324836935803 %\n",
      "eval process:  65000  of  291143  actions:  22.325798662512923 %\n",
      "eval process:  66000  of  291143  actions:  22.669272488090044 %\n",
      "eval process:  67000  of  291143  actions:  23.01274631366717 %\n",
      "eval process:  69000  of  291143  actions:  23.69969396482141 %\n",
      "eval process:  70000  of  291143  actions:  24.04316779039853 %\n",
      "eval process:  71000  of  291143  actions:  24.386641615975655 %\n",
      "eval process:  73000  of  291143  actions:  25.073589267129897 %\n",
      "eval process:  74000  of  291143  actions:  25.41706309270702 %\n",
      "eval process:  75000  of  291143  actions:  25.760536918284142 %\n",
      "eval process:  76000  of  291143  actions:  26.104010743861267 %\n",
      "eval process:  77000  of  291143  actions:  26.447484569438384 %\n",
      "eval process:  79000  of  291143  actions:  27.13443222059263 %\n",
      "eval process:  80000  of  291143  actions:  27.477906046169753 %\n",
      "eval process:  81000  of  291143  actions:  27.82137987174687 %\n",
      "eval process:  82000  of  291143  actions:  28.164853697323995 %\n",
      "eval process:  83000  of  291143  actions:  28.508327522901116 %\n",
      "eval process:  84000  of  291143  actions:  28.85180134847824 %\n",
      "eval process:  85000  of  291143  actions:  29.195275174055364 %\n",
      "eval process:  86000  of  291143  actions:  29.53874899963248 %\n",
      "eval process:  87000  of  291143  actions:  29.882222825209602 %\n",
      "eval process:  88000  of  291143  actions:  30.225696650786727 %\n",
      "eval process:  89000  of  291143  actions:  30.56917047636385 %\n",
      "eval process:  90000  of  291143  actions:  30.912644301940972 %\n",
      "eval process:  91000  of  291143  actions:  31.25611812751809 %\n",
      "eval process:  92000  of  291143  actions:  31.599591953095214 %\n",
      "eval process:  93000  of  291143  actions:  31.943065778672334 %\n",
      "eval process:  94000  of  291143  actions:  32.28653960424946 %\n",
      "eval process:  95000  of  291143  actions:  32.63001342982658 %\n",
      "eval process:  96000  of  291143  actions:  32.9734872554037 %\n",
      "eval process:  97000  of  291143  actions:  33.316961080980825 %\n",
      "eval process:  98000  of  291143  actions:  33.660434906557946 %\n",
      "eval process:  99000  of  291143  actions:  34.003908732135066 %\n",
      "eval process:  100000  of  291143  actions:  34.347382557712194 %\n",
      "eval process:  101000  of  291143  actions:  34.69085638328931 %\n",
      "eval process:  102000  of  291143  actions:  35.03433020886643 %\n",
      "eval process:  104000  of  291143  actions:  35.72127786002068 %\n",
      "eval process:  105000  of  291143  actions:  36.0647516855978 %\n",
      "eval process:  106000  of  291143  actions:  36.40822551117492 %\n",
      "eval process:  107000  of  291143  actions:  36.75169933675204 %\n",
      "eval process:  108000  of  291143  actions:  37.09517316232917 %\n",
      "eval process:  109000  of  291143  actions:  37.43864698790629 %\n",
      "eval process:  110000  of  291143  actions:  37.78212081348341 %\n",
      "eval process:  111000  of  291143  actions:  38.12559463906053 %\n",
      "eval process:  112000  of  291143  actions:  38.46906846463765 %\n",
      "eval process:  113000  of  291143  actions:  38.81254229021477 %\n",
      "eval process:  114000  of  291143  actions:  39.1560161157919 %\n",
      "eval process:  117000  of  291143  actions:  40.18643759252326 %\n",
      "eval process:  118000  of  291143  actions:  40.52991141810038 %\n",
      "eval process:  119000  of  291143  actions:  40.873385243677504 %\n",
      "eval process:  120000  of  291143  actions:  41.21685906925463 %\n",
      "eval process:  121000  of  291143  actions:  41.560332894831745 %\n",
      "eval process:  122000  of  291143  actions:  41.90380672040887 %\n",
      "eval process:  123000  of  291143  actions:  42.247280545985994 %\n",
      "eval process:  124000  of  291143  actions:  42.590754371563115 %\n",
      "eval process:  125000  of  291143  actions:  42.93422819714024 %\n",
      "eval process:  126000  of  291143  actions:  43.27770202271736 %\n",
      "eval process:  127000  of  291143  actions:  43.62117584829448 %\n",
      "eval process:  128000  of  291143  actions:  43.964649673871605 %\n",
      "eval process:  129000  of  291143  actions:  44.308123499448726 %\n",
      "eval process:  130000  of  291143  actions:  44.65159732502585 %\n",
      "eval process:  131000  of  291143  actions:  44.99507115060297 %\n",
      "eval process:  132000  of  291143  actions:  45.33854497618009 %\n",
      "eval process:  133000  of  291143  actions:  45.68201880175721 %\n",
      "eval process:  134000  of  291143  actions:  46.02549262733434 %\n",
      "eval process:  135000  of  291143  actions:  46.36896645291145 %\n",
      "eval process:  136000  of  291143  actions:  46.71244027848858 %\n",
      "eval process:  137000  of  291143  actions:  47.0559141040657 %\n",
      "eval process:  138000  of  291143  actions:  47.39938792964282 %\n",
      "eval process:  140000  of  291143  actions:  48.08633558079706 %\n",
      "eval process:  142000  of  291143  actions:  48.77328323195131 %\n",
      "eval process:  143000  of  291143  actions:  49.11675705752843 %\n",
      "eval process:  144000  of  291143  actions:  49.46023088310555 %\n",
      "eval process:  145000  of  291143  actions:  49.80370470868267 %\n",
      "eval process:  146000  of  291143  actions:  50.147178534259794 %\n",
      "eval process:  147000  of  291143  actions:  50.490652359836915 %\n",
      "eval process:  148000  of  291143  actions:  50.83412618541404 %\n",
      "eval process:  149000  of  291143  actions:  51.17760001099116 %\n",
      "eval process:  150000  of  291143  actions:  51.521073836568284 %\n",
      "eval process:  151000  of  291143  actions:  51.86454766214541 %\n",
      "eval process:  152000  of  291143  actions:  52.20802148772253 %\n",
      "eval process:  153000  of  291143  actions:  52.55149531329965 %\n",
      "eval process:  154000  of  291143  actions:  52.89496913887677 %\n",
      "eval process:  155000  of  291143  actions:  53.23844296445389 %\n",
      "eval process:  156000  of  291143  actions:  53.581916790031016 %\n",
      "eval process:  157000  of  291143  actions:  53.92539061560814 %\n",
      "eval process:  158000  of  291143  actions:  54.26886444118526 %\n",
      "eval process:  159000  of  291143  actions:  54.612338266762386 %\n",
      "eval process:  160000  of  291143  actions:  54.95581209233951 %\n",
      "eval process:  162000  of  291143  actions:  55.64275974349374 %\n",
      "eval process:  163000  of  291143  actions:  55.98623356907086 %\n",
      "eval process:  164000  of  291143  actions:  56.32970739464799 %\n",
      "eval process:  165000  of  291143  actions:  56.67318122022511 %\n",
      "eval process:  167000  of  291143  actions:  57.36012887137936 %\n",
      "eval process:  168000  of  291143  actions:  57.70360269695648 %\n",
      "eval process:  169000  of  291143  actions:  58.0470765225336 %\n",
      "eval process:  170000  of  291143  actions:  58.39055034811073 %\n",
      "eval process:  171000  of  291143  actions:  58.73402417368785 %\n",
      "eval process:  172000  of  291143  actions:  59.07749799926496 %\n",
      "eval process:  175000  of  291143  actions:  60.10791947599633 %\n",
      "eval process:  177000  of  291143  actions:  60.794867127150575 %\n",
      "eval process:  178000  of  291143  actions:  61.1383409527277 %\n",
      "eval process:  179000  of  291143  actions:  61.48181477830482 %\n",
      "eval process:  180000  of  291143  actions:  61.825288603881944 %\n",
      "eval process:  182000  of  291143  actions:  62.51223625503618 %\n",
      "eval process:  183000  of  291143  actions:  62.855710080613306 %\n",
      "eval process:  184000  of  291143  actions:  63.19918390619043 %\n",
      "eval process:  185000  of  291143  actions:  63.54265773176755 %\n",
      "eval process:  186000  of  291143  actions:  63.88613155734467 %\n",
      "eval process:  187000  of  291143  actions:  64.22960538292179 %\n",
      "eval process:  188000  of  291143  actions:  64.57307920849892 %\n",
      "eval process:  189000  of  291143  actions:  64.91655303407605 %\n",
      "eval process:  191000  of  291143  actions:  65.60350068523029 %\n",
      "eval process:  192000  of  291143  actions:  65.9469745108074 %\n",
      "eval process:  194000  of  291143  actions:  66.63392216196165 %\n",
      "eval process:  195000  of  291143  actions:  66.97739598753877 %\n",
      "eval process:  196000  of  291143  actions:  67.32086981311589 %\n",
      "eval process:  197000  of  291143  actions:  67.66434363869301 %\n",
      "eval process:  198000  of  291143  actions:  68.00781746427013 %\n",
      "eval process:  199000  of  291143  actions:  68.35129128984725 %\n",
      "eval process:  200000  of  291143  actions:  68.69476511542439 %\n",
      "eval process:  202000  of  291143  actions:  69.38171276657862 %\n",
      "eval process:  203000  of  291143  actions:  69.72518659215574 %\n",
      "eval process:  204000  of  291143  actions:  70.06866041773286 %\n",
      "eval process:  205000  of  291143  actions:  70.41213424330999 %\n",
      "eval process:  206000  of  291143  actions:  70.75560806888711 %\n",
      "eval process:  207000  of  291143  actions:  71.09908189446423 %\n",
      "eval process:  209000  of  291143  actions:  71.78602954561848 %\n",
      "eval process:  210000  of  291143  actions:  72.1295033711956 %\n",
      "eval process:  212000  of  291143  actions:  72.81645102234984 %\n",
      "eval process:  213000  of  291143  actions:  73.15992484792696 %\n",
      "eval process:  214000  of  291143  actions:  73.50339867350408 %\n",
      "eval process:  215000  of  291143  actions:  73.8468724990812 %\n",
      "eval process:  216000  of  291143  actions:  74.19034632465834 %\n",
      "eval process:  217000  of  291143  actions:  74.53382015023546 %\n",
      "eval process:  219000  of  291143  actions:  75.2207678013897 %\n",
      "eval process:  220000  of  291143  actions:  75.56424162696682 %\n",
      "eval process:  221000  of  291143  actions:  75.90771545254394 %\n",
      "eval process:  223000  of  291143  actions:  76.59466310369818 %\n",
      "eval process:  225000  of  291143  actions:  77.28161075485242 %\n",
      "eval process:  228000  of  291143  actions:  78.3120322315838 %\n",
      "eval process:  230000  of  291143  actions:  78.99897988273804 %\n",
      "eval process:  231000  of  291143  actions:  79.34245370831515 %\n",
      "eval process:  232000  of  291143  actions:  79.68592753389228 %\n",
      "eval process:  233000  of  291143  actions:  80.0294013594694 %\n",
      "eval process:  234000  of  291143  actions:  80.37287518504652 %\n",
      "eval process:  235000  of  291143  actions:  80.71634901062365 %\n",
      "eval process:  236000  of  291143  actions:  81.05982283620077 %\n",
      "eval process:  238000  of  291143  actions:  81.74677048735501 %\n",
      "eval process:  240000  of  291143  actions:  82.43371813850926 %\n",
      "eval process:  241000  of  291143  actions:  82.77719196408637 %\n",
      "eval process:  242000  of  291143  actions:  83.12066578966349 %\n",
      "eval process:  243000  of  291143  actions:  83.46413961524061 %\n",
      "eval process:  244000  of  291143  actions:  83.80761344081775 %\n",
      "eval process:  245000  of  291143  actions:  84.15108726639487 %\n",
      "eval process:  246000  of  291143  actions:  84.49456109197199 %\n",
      "eval process:  247000  of  291143  actions:  84.83803491754911 %\n",
      "eval process:  248000  of  291143  actions:  85.18150874312623 %\n",
      "eval process:  249000  of  291143  actions:  85.52498256870335 %\n",
      "eval process:  250000  of  291143  actions:  85.86845639428049 %\n",
      "eval process:  251000  of  291143  actions:  86.21193021985759 %\n",
      "eval process:  252000  of  291143  actions:  86.55540404543471 %\n",
      "eval process:  253000  of  291143  actions:  86.89887787101183 %\n",
      "eval process:  254000  of  291143  actions:  87.24235169658895 %\n",
      "eval process:  255000  of  291143  actions:  87.58582552216609 %\n",
      "eval process:  256000  of  291143  actions:  87.92929934774321 %\n",
      "eval process:  257000  of  291143  actions:  88.27277317332033 %\n",
      "eval process:  258000  of  291143  actions:  88.61624699889745 %\n",
      "eval process:  259000  of  291143  actions:  88.95972082447457 %\n",
      "eval process:  260000  of  291143  actions:  89.3031946500517 %\n",
      "eval process:  261000  of  291143  actions:  89.64666847562881 %\n",
      "eval process:  262000  of  291143  actions:  89.99014230120594 %\n",
      "eval process:  264000  of  291143  actions:  90.67708995236018 %\n",
      "eval process:  265000  of  291143  actions:  91.0205637779373 %\n",
      "eval process:  266000  of  291143  actions:  91.36403760351442 %\n",
      "eval process:  267000  of  291143  actions:  91.70751142909155 %\n",
      "eval process:  268000  of  291143  actions:  92.05098525466867 %\n",
      "eval process:  269000  of  291143  actions:  92.3944590802458 %\n",
      "eval process:  270000  of  291143  actions:  92.7379329058229 %\n",
      "eval process:  271000  of  291143  actions:  93.08140673140002 %\n",
      "eval process:  272000  of  291143  actions:  93.42488055697716 %\n",
      "eval process:  273000  of  291143  actions:  93.76835438255428 %\n",
      "eval process:  274000  of  291143  actions:  94.1118282081314 %\n",
      "eval process:  275000  of  291143  actions:  94.45530203370852 %\n",
      "eval process:  277000  of  291143  actions:  95.14224968486276 %\n",
      "eval process:  278000  of  291143  actions:  95.4857235104399 %\n",
      "eval process:  279000  of  291143  actions:  95.82919733601702 %\n",
      "eval process:  281000  of  291143  actions:  96.51614498717124 %\n",
      "eval process:  282000  of  291143  actions:  96.85961881274837 %\n",
      "eval process:  283000  of  291143  actions:  97.2030926383255 %\n",
      "eval process:  284000  of  291143  actions:  97.54656646390262 %\n",
      "eval process:  285000  of  291143  actions:  97.89004028947974 %\n",
      "eval process:  286000  of  291143  actions:  98.23351411505686 %\n",
      "eval process:  288000  of  291143  actions:  98.9204617662111 %\n",
      "eval process:  289000  of  291143  actions:  99.26393559178823 %\n",
      "eval process:  290000  of  291143  actions:  99.60740941736535 %\n",
      "eval process:  291000  of  291143  actions:  99.95088324294247 %\n"
     ]
    }
   ],
   "source": [
    "metrics = [Precision(10), Recall(10), MAP(10), NDCG(10)]\n",
    "result = evaluate_sessions(model, metrics)"
   ]
  },
  {
   "cell_type": "code",
   "execution_count": 20,
   "metadata": {},
   "outputs": [
    {
     "data": {
      "text/plain": [
       "[('Precision@10: ', 0.06637077250384146),\n",
       " ('Recall@10: ', 0.27442641179515614),\n",
       " ('MAP@10: ', 0.030426090308221545),\n",
       " ('NDCG@10: ', 0.26166046376079183)]"
      ]
     },
     "execution_count": 20,
     "metadata": {},
     "output_type": "execute_result"
    }
   ],
   "source": [
    "result"
   ]
  }
 ],
 "metadata": {
  "kernelspec": {
   "display_name": "Python 3 (ipykernel)",
   "language": "python",
   "name": "python3"
  },
  "language_info": {
   "codemirror_mode": {
    "name": "ipython",
    "version": 3
   },
   "file_extension": ".py",
   "mimetype": "text/x-python",
   "name": "python",
   "nbconvert_exporter": "python",
   "pygments_lexer": "ipython3",
   "version": "3.8.10"
  }
 },
 "nbformat": 4,
 "nbformat_minor": 4
}
