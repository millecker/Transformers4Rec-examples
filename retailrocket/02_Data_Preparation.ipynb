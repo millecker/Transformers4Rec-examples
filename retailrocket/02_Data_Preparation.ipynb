{
 "cells": [
  {
   "cell_type": "code",
   "execution_count": 1,
   "metadata": {},
   "outputs": [],
   "source": [
    "import pandas as pd\n",
    "import numpy as np\n",
    "\n",
    "from datetime import datetime, timezone, timedelta"
   ]
  },
  {
   "cell_type": "markdown",
   "metadata": {},
   "source": [
    "### Load datasets"
   ]
  },
  {
   "cell_type": "code",
   "execution_count": 2,
   "metadata": {},
   "outputs": [],
   "source": [
    "events_df = pd.read_pickle(\"data/01_events_df.pkl\")"
   ]
  },
  {
   "cell_type": "code",
   "execution_count": 3,
   "metadata": {},
   "outputs": [],
   "source": [
    "category_tree_df = pd.read_pickle(\"data/01_category_tree_df.pkl\")"
   ]
  },
  {
   "cell_type": "code",
   "execution_count": 4,
   "metadata": {},
   "outputs": [],
   "source": [
    "item_properties_df = pd.read_pickle(\"data/01_item_properties_df.pkl\")"
   ]
  },
  {
   "cell_type": "markdown",
   "metadata": {},
   "source": [
    "### Data Preparation"
   ]
  },
  {
   "cell_type": "code",
   "execution_count": 5,
   "metadata": {},
   "outputs": [],
   "source": [
    "# Define variables\n",
    "TIME_KEY = \"timestamp\"\n",
    "USER_KEY = \"visitorid\"\n",
    "ITEM_KEY = \"itemid\"\n",
    "SESSION_KEY = \"sessionid\""
   ]
  },
  {
   "cell_type": "code",
   "execution_count": 6,
   "metadata": {},
   "outputs": [],
   "source": [
    "# Remove rows with NA userId\n",
    "events_prepared_df = events_df[~np.isnan(events_df[USER_KEY])].copy()"
   ]
  },
  {
   "cell_type": "code",
   "execution_count": 7,
   "metadata": {},
   "outputs": [],
   "source": [
    "# Truncate milli seconds\n",
    "events_prepared_df[TIME_KEY] = (events_prepared_df[TIME_KEY] / 1000).astype(int)"
   ]
  },
  {
   "cell_type": "markdown",
   "metadata": {},
   "source": [
    "#### Introduce Sessions"
   ]
  },
  {
   "cell_type": "code",
   "execution_count": 8,
   "metadata": {},
   "outputs": [],
   "source": [
    "# Sort data by user and time\n",
    "events_prepared_df.sort_values(by=[USER_KEY, TIME_KEY], ascending=True, inplace=True)"
   ]
  },
  {
   "cell_type": "code",
   "execution_count": 9,
   "metadata": {},
   "outputs": [],
   "source": [
    "# Compute the time difference between queries\n",
    "tdiff = np.diff(events_prepared_df[TIME_KEY].values)"
   ]
  },
  {
   "cell_type": "code",
   "execution_count": 10,
   "metadata": {},
   "outputs": [],
   "source": [
    "# Check which of them are bigger then session threshold\n",
    "SESSION_THRESHOLD = 30 * 60\n",
    "split_session = tdiff > SESSION_THRESHOLD\n",
    "split_session = np.r_[True, split_session]"
   ]
  },
  {
   "cell_type": "code",
   "execution_count": 11,
   "metadata": {},
   "outputs": [],
   "source": [
    "# Check when the user changes its data\n",
    "new_user = events_prepared_df[USER_KEY].values[1:] != events_prepared_df[USER_KEY].values[:-1]\n",
    "new_user = np.r_[True, new_user]"
   ]
  },
  {
   "cell_type": "code",
   "execution_count": 12,
   "metadata": {},
   "outputs": [],
   "source": [
    "# A new sessions stars when at least one of the two conditions is verified\n",
    "new_session = np.logical_or(new_user, split_session)"
   ]
  },
  {
   "cell_type": "code",
   "execution_count": 13,
   "metadata": {},
   "outputs": [],
   "source": [
    "# Compute the session ids\n",
    "session_ids = np.cumsum(new_session)\n",
    "events_prepared_df[SESSION_KEY] = session_ids"
   ]
  },
  {
   "cell_type": "code",
   "execution_count": 14,
   "metadata": {},
   "outputs": [
    {
     "data": {
      "text/html": [
       "<div>\n",
       "<style scoped>\n",
       "    .dataframe tbody tr th:only-of-type {\n",
       "        vertical-align: middle;\n",
       "    }\n",
       "\n",
       "    .dataframe tbody tr th {\n",
       "        vertical-align: top;\n",
       "    }\n",
       "\n",
       "    .dataframe thead th {\n",
       "        text-align: right;\n",
       "    }\n",
       "</style>\n",
       "<table border=\"1\" class=\"dataframe\">\n",
       "  <thead>\n",
       "    <tr style=\"text-align: right;\">\n",
       "      <th></th>\n",
       "      <th>timestamp</th>\n",
       "      <th>visitorid</th>\n",
       "      <th>event</th>\n",
       "      <th>itemid</th>\n",
       "      <th>transactionid</th>\n",
       "      <th>sessionid</th>\n",
       "    </tr>\n",
       "  </thead>\n",
       "  <tbody>\n",
       "    <tr>\n",
       "      <th>1361687</th>\n",
       "      <td>1442004589</td>\n",
       "      <td>0</td>\n",
       "      <td>view</td>\n",
       "      <td>285930</td>\n",
       "      <td>NaN</td>\n",
       "      <td>1</td>\n",
       "    </tr>\n",
       "    <tr>\n",
       "      <th>1367212</th>\n",
       "      <td>1442004759</td>\n",
       "      <td>0</td>\n",
       "      <td>view</td>\n",
       "      <td>357564</td>\n",
       "      <td>NaN</td>\n",
       "      <td>1</td>\n",
       "    </tr>\n",
       "    <tr>\n",
       "      <th>1367342</th>\n",
       "      <td>1442004917</td>\n",
       "      <td>0</td>\n",
       "      <td>view</td>\n",
       "      <td>67045</td>\n",
       "      <td>NaN</td>\n",
       "      <td>1</td>\n",
       "    </tr>\n",
       "    <tr>\n",
       "      <th>830385</th>\n",
       "      <td>1439487966</td>\n",
       "      <td>1</td>\n",
       "      <td>view</td>\n",
       "      <td>72028</td>\n",
       "      <td>NaN</td>\n",
       "      <td>2</td>\n",
       "    </tr>\n",
       "    <tr>\n",
       "      <th>742616</th>\n",
       "      <td>1438969904</td>\n",
       "      <td>2</td>\n",
       "      <td>view</td>\n",
       "      <td>325215</td>\n",
       "      <td>NaN</td>\n",
       "      <td>3</td>\n",
       "    </tr>\n",
       "  </tbody>\n",
       "</table>\n",
       "</div>"
      ],
      "text/plain": [
       "          timestamp  visitorid event  itemid  transactionid  sessionid\n",
       "1361687  1442004589          0  view  285930            NaN          1\n",
       "1367212  1442004759          0  view  357564            NaN          1\n",
       "1367342  1442004917          0  view   67045            NaN          1\n",
       "830385   1439487966          1  view   72028            NaN          2\n",
       "742616   1438969904          2  view  325215            NaN          3"
      ]
     },
     "execution_count": 14,
     "metadata": {},
     "output_type": "execute_result"
    }
   ],
   "source": [
    "events_prepared_df.head()"
   ]
  },
  {
   "cell_type": "code",
   "execution_count": 15,
   "metadata": {},
   "outputs": [],
   "source": [
    "def print_stats(data):\n",
    "    data_start = datetime.fromtimestamp(data[TIME_KEY].min(), timezone.utc)\n",
    "    data_end = datetime.fromtimestamp(data[TIME_KEY].max(), timezone.utc)\n",
    "    print('\\tEvents: {}\\n\\tUsers: {}\\n\\tSessions: {}\\n\\tItems: {}\\n\\tSpan: {} / {}'.\n",
    "          format(len(data), data[USER_KEY].nunique(),\n",
    "                 data[SESSION_KEY].nunique(), data[ITEM_KEY].nunique(),\n",
    "                 data_start.date().isoformat(), data_end.date().isoformat()))"
   ]
  },
  {
   "cell_type": "code",
   "execution_count": 16,
   "metadata": {},
   "outputs": [
    {
     "name": "stdout",
     "output_type": "stream",
     "text": [
      "Raw dataset:\n",
      "\tEvents: 2756101\n",
      "\tUsers: 1407580\n",
      "\tSessions: 1761660\n",
      "\tItems: 235061\n",
      "\tSpan: 2015-05-03 / 2015-09-18\n"
     ]
    }
   ],
   "source": [
    "print(\"Raw dataset:\")\n",
    "print_stats(events_prepared_df)"
   ]
  },
  {
   "cell_type": "markdown",
   "metadata": {},
   "source": [
    "#### Filter"
   ]
  },
  {
   "cell_type": "code",
   "execution_count": 17,
   "metadata": {},
   "outputs": [],
   "source": [
    "# Keep items with >=5 interactions\n",
    "MIN_ITEM_SUPPORT = 5\n",
    "item_pop = events_prepared_df[ITEM_KEY].value_counts()\n",
    "good_items = item_pop[item_pop >= MIN_ITEM_SUPPORT].index\n",
    "events_prepared_df = events_prepared_df[events_prepared_df[ITEM_KEY].isin(good_items)]"
   ]
  },
  {
   "cell_type": "code",
   "execution_count": 18,
   "metadata": {},
   "outputs": [],
   "source": [
    "# Remove sessions with length < 2\n",
    "MIN_SESSION_LENGTH = 2\n",
    "session_length = events_prepared_df[SESSION_KEY].value_counts()\n",
    "good_sessions = session_length[session_length >= MIN_SESSION_LENGTH].index\n",
    "events_prepared_df = events_prepared_df[events_prepared_df[SESSION_KEY].isin(good_sessions)]"
   ]
  },
  {
   "cell_type": "code",
   "execution_count": 19,
   "metadata": {},
   "outputs": [],
   "source": [
    "# let's keep only returning users (with >= 2 sessions)\n",
    "# need to be 3, because we need at least 1 for each training, validation and test set\n",
    "MIN_USER_SESSIONS = 3\n",
    "MAX_USER_SESSIONS = None\n",
    "sess_per_user = events_prepared_df.groupby(USER_KEY)[SESSION_KEY].nunique()\n",
    "if MAX_USER_SESSIONS is None:  # no filter for max number of sessions for each user\n",
    "    good_users = sess_per_user[(sess_per_user >= MIN_USER_SESSIONS)].index\n",
    "else:\n",
    "    good_users = sess_per_user[(sess_per_user >= MIN_USER_SESSIONS) & (sess_per_user < MAX_USER_SESSIONS)].index\n",
    "events_prepared_df = events_prepared_df[events_prepared_df[USER_KEY].isin(good_users)]"
   ]
  },
  {
   "cell_type": "code",
   "execution_count": 20,
   "metadata": {},
   "outputs": [
    {
     "name": "stdout",
     "output_type": "stream",
     "text": [
      "Filtered dataset:\n",
      "\tEvents: 308642\n",
      "\tUsers: 9474\n",
      "\tSessions: 51101\n",
      "\tItems: 41969\n",
      "\tSpan: 2015-05-03 / 2015-09-18\n"
     ]
    }
   ],
   "source": [
    "print(\"Filtered dataset:\")\n",
    "print_stats(events_prepared_df)"
   ]
  },
  {
   "cell_type": "markdown",
   "metadata": {},
   "source": [
    "### Create single train / test split"
   ]
  },
  {
   "cell_type": "code",
   "execution_count": 21,
   "metadata": {},
   "outputs": [],
   "source": [
    "CLEAN_TEST = True\n",
    "def last_session_out_split(data, min_session_length):\n",
    "    \"\"\"\n",
    "    last-session-out split\n",
    "    assign the last session of every user to the test set and the remaining ones to the training set\n",
    "    \"\"\"\n",
    "    sessions = data.sort_values(by=[USER_KEY, TIME_KEY]).groupby(USER_KEY)[SESSION_KEY]\n",
    "    last_session = sessions.last()\n",
    "    train = data[~data[SESSION_KEY].isin(last_session.values)].copy()\n",
    "    test = data[data[SESSION_KEY].isin(last_session.values)].copy()\n",
    "    if CLEAN_TEST:\n",
    "        train_items = train[ITEM_KEY].unique()\n",
    "        test = test[test[ITEM_KEY].isin(train_items)]\n",
    "        \n",
    "        #  Remove sessions in test shorter than min_session_length\n",
    "        slen = test[SESSION_KEY].value_counts()\n",
    "        good_sessions = slen[slen >= min_session_length].index\n",
    "        test = test[test[SESSION_KEY].isin(good_sessions)].copy()\n",
    "        train = train.reset_index(drop=True)\n",
    "        test = test.reset_index(drop=True)\n",
    "    return train, test"
   ]
  },
  {
   "cell_type": "code",
   "execution_count": 22,
   "metadata": {},
   "outputs": [],
   "source": [
    "# assign the last session of every user to the test set and the remaining ones to the training set\n",
    "train_sessions, test_sessions = last_session_out_split(events_prepared_df, MIN_SESSION_LENGTH)\n",
    "validation_train_sessions, validation_test_sessions = last_session_out_split(train_sessions, MIN_SESSION_LENGTH)"
   ]
  },
  {
   "cell_type": "code",
   "execution_count": 23,
   "metadata": {},
   "outputs": [
    {
     "name": "stdout",
     "output_type": "stream",
     "text": [
      "Training set:\n",
      "\tEvents: 269317\n",
      "\tUsers: 9474\n",
      "\tSessions: 41627\n",
      "\tItems: 39974\n",
      "\tSpan: 2015-05-03 / 2015-09-18\n"
     ]
    }
   ],
   "source": [
    "print(\"Training set:\")\n",
    "print_stats(train_sessions)"
   ]
  },
  {
   "cell_type": "code",
   "execution_count": 24,
   "metadata": {},
   "outputs": [
    {
     "name": "stdout",
     "output_type": "stream",
     "text": [
      "Test set:\n",
      "\tEvents: 36023\n",
      "\tUsers: 8761\n",
      "\tSessions: 8761\n",
      "\tItems: 14262\n",
      "\tSpan: 2015-05-03 / 2015-09-18\n"
     ]
    }
   ],
   "source": [
    "print(\"Test set:\")\n",
    "print_stats(test_sessions)"
   ]
  },
  {
   "cell_type": "code",
   "execution_count": 25,
   "metadata": {},
   "outputs": [
    {
     "name": "stdout",
     "output_type": "stream",
     "text": [
      "Validation training set:\n",
      "\tEvents: 224600\n",
      "\tUsers: 9474\n",
      "\tSessions: 32153\n",
      "\tItems: 37290\n",
      "\tSpan: 2015-05-03 / 2015-09-17\n"
     ]
    }
   ],
   "source": [
    "print(\"Validation training set:\")\n",
    "print_stats(validation_train_sessions)"
   ]
  },
  {
   "cell_type": "code",
   "execution_count": 26,
   "metadata": {},
   "outputs": [
    {
     "name": "stdout",
     "output_type": "stream",
     "text": [
      "Validation test set:\n",
      "\tEvents: 40320\n",
      "\tUsers: 8712\n",
      "\tSessions: 8712\n",
      "\tItems: 14923\n",
      "\tSpan: 2015-05-03 / 2015-09-18\n"
     ]
    }
   ],
   "source": [
    "print(\"Validation test set:\")\n",
    "print_stats(validation_test_sessions)"
   ]
  },
  {
   "cell_type": "markdown",
   "metadata": {},
   "source": [
    "### Store Datasets"
   ]
  },
  {
   "cell_type": "code",
   "execution_count": 27,
   "metadata": {},
   "outputs": [],
   "source": [
    "events_prepared_df.to_pickle(\"data/02_events_prepared_df.pkl\")"
   ]
  },
  {
   "cell_type": "code",
   "execution_count": 28,
   "metadata": {},
   "outputs": [],
   "source": [
    "train_sessions.to_pickle(\"data/02_train_sessions.pkl\")"
   ]
  },
  {
   "cell_type": "code",
   "execution_count": 29,
   "metadata": {},
   "outputs": [],
   "source": [
    "test_sessions.to_pickle(\"data/02_test_sessions.pkl\")"
   ]
  },
  {
   "cell_type": "code",
   "execution_count": 30,
   "metadata": {},
   "outputs": [],
   "source": [
    "validation_train_sessions.to_pickle(\"data/02_validation_train_sessions.pkl\")"
   ]
  },
  {
   "cell_type": "code",
   "execution_count": 31,
   "metadata": {},
   "outputs": [],
   "source": [
    "validation_test_sessions.to_pickle(\"data/02_validation_test_sessions.pkl\")"
   ]
  }
 ],
 "metadata": {
  "kernelspec": {
   "display_name": "Python 3 (ipykernel)",
   "language": "python",
   "name": "python3"
  },
  "language_info": {
   "codemirror_mode": {
    "name": "ipython",
    "version": 3
   },
   "file_extension": ".py",
   "mimetype": "text/x-python",
   "name": "python",
   "nbconvert_exporter": "python",
   "pygments_lexer": "ipython3",
   "version": "3.8.10"
  }
 },
 "nbformat": 4,
 "nbformat_minor": 4
}
